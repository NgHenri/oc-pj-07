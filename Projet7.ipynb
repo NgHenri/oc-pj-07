{
  "nbformat": 4,
  "nbformat_minor": 0,
  "metadata": {
    "colab": {
      "provenance": [],
      "authorship_tag": "ABX9TyPK+9tiRxS7AQ7utzxW/Fzz",
      "include_colab_link": true
    },
    "kernelspec": {
      "name": "python3",
      "display_name": "Python 3"
    },
    "language_info": {
      "name": "python"
    }
  },
  "cells": [
    {
      "cell_type": "markdown",
      "metadata": {
        "id": "view-in-github",
        "colab_type": "text"
      },
      "source": [
        "<a href=\"https://colab.research.google.com/github/NgHenri/oc-pj-07/blob/main/Projet7.ipynb\" target=\"_parent\"><img src=\"https://colab.research.google.com/assets/colab-badge.svg\" alt=\"Open In Colab\"/></a>"
      ]
    },
    {
      "cell_type": "code",
      "execution_count": 1,
      "metadata": {
        "colab": {
          "base_uri": "https://localhost:8080/"
        },
        "id": "ennI2AbgUlgE",
        "outputId": "13c9bb13-9024-4fbd-db0b-f6173844abdc"
      },
      "outputs": [
        {
          "output_type": "stream",
          "name": "stdout",
          "text": [
            "Mounted at /content/drive\n",
            "\n",
            "Tu es sur Google Colab\n",
            "Chemin d'accès aux données: /content/drive/MyDrive/Python/OCRP/Projet06/archive/Flipkart/\n"
          ]
        }
      ],
      "source": [
        "# Standard Libraries\n",
        "import os\n",
        "import sys\n",
        "import warnings\n",
        "from datetime import datetime\n",
        "from time import time\n",
        "import unicodedata\n",
        "\n",
        "# Data Manipulation\n",
        "import numpy as np\n",
        "import pandas as pd\n",
        "%matplotlib inline\n",
        "from os import listdir\n",
        "\n",
        "# Détermine si vous êtes sur Google Colab\n",
        "is_colab = 'google.colab' in sys.modules\n",
        "\n",
        "# Détermine si vous êtes sur Kaggle\n",
        "is_kaggle = '/kaggle' in os.getcwd()\n",
        "\n",
        "# Chemin par défaut\n",
        "path = None\n",
        "\n",
        "if is_colab:\n",
        "    from google.colab import drive\n",
        "    drive.mount('/content/drive')\n",
        "    path = '/content/drive/MyDrive/Python/OCRP/Projet06/archive/Flipkart/'\n",
        "    print(\"\\nTu es sur Google Colab\")\n",
        "elif is_kaggle:\n",
        "    path = \"/kaggle/input/images-data/\"\n",
        "    print(\"\\nTu es sur Kaggle\")\n",
        "else:\n",
        "    path = \"~/Documents/Python/OCR/Projet06/archive/\"\n",
        "    print(\"\\nTu es en local\")\n",
        "\n",
        "# Utilisez le chemin d'accès sélectionné pour accéder à vos données\n",
        "if path is not None:\n",
        "    print(\"Chemin d'accès aux données:\", path)\n",
        "else:\n",
        "    print(\"Impossible de déterminer l'environnement.\")\n",
        "# Chemin d'accès aux données\n",
        "path = \"/kaggle/input/\""
      ]
    },
    {
      "cell_type": "code",
      "source": [
        "%cd /content/drive/MyDrive/Github/"
      ],
      "metadata": {
        "colab": {
          "base_uri": "https://localhost:8080/"
        },
        "id": "Din9DQM4UoTz",
        "outputId": "6550eefe-dfa0-45f8-90df-262cde13f71f"
      },
      "execution_count": 2,
      "outputs": [
        {
          "output_type": "stream",
          "name": "stdout",
          "text": [
            "/content/drive/MyDrive/Github\n"
          ]
        }
      ]
    }
  ]
}